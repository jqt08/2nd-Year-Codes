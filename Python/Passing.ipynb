{
 "cells": [
  {
   "cell_type": "code",
   "execution_count": 2,
   "id": "59c59fbc",
   "metadata": {},
   "outputs": [
    {
     "name": "stdout",
     "output_type": "stream",
     "text": [
      "Enter student name: Aaron\n",
      "Enter CCS0003 grade: 75\n",
      "Enter CCS0007 grade: 75\n",
      "Enter CCS0007 grade: 75\n",
      "\n",
      "Student Name: Aaron\n",
      "CCS0003 Grade: 75.0\n",
      "CCS0007 Grade: 75.0\n",
      "CCS0015 Grade: 75.0\n",
      "Average Grade: 75.00\n",
      "Congratulations for passing this term!\n"
     ]
    }
   ],
   "source": [
    "student_name = input(\"Enter student name: \")\n",
    "ccs0003_grade = float(input(\"Enter CCS0003 grade: \"))\n",
    "ccs0007_grade = float(input(\"Enter CCS0007 grade: \"))\n",
    "ccs0015_grade = float(input(\"Enter CCS0007 grade: \"))\n",
    "average_grade = (ccs0003_grade + ccs0007_grade + ccs0015_grade) / 3\n",
    "print(f\"\\nStudent Name: {student_name}\")\n",
    "print(f\"CCS0003 Grade: {ccs0003_grade}\")\n",
    "print(f\"CCS0007 Grade: {ccs0007_grade}\")\n",
    "print(f\"CCS0015 Grade: {ccs0015_grade}\")\n",
    "print(f\"Average Grade: {average_grade:.2f}\")\n",
    "if average_grade >= 70:\n",
    "    print(\"Congratulations for passing this term!\")\n",
    "else:\n",
    "    print(\"Sorry to inform you that you did not pass the semester!\")"
   ]
  },
  {
   "cell_type": "code",
   "execution_count": null,
   "id": "61bd2926",
   "metadata": {},
   "outputs": [],
   "source": []
  }
 ],
 "metadata": {
  "kernelspec": {
   "display_name": "Python 3 (ipykernel)",
   "language": "python",
   "name": "python3"
  },
  "language_info": {
   "codemirror_mode": {
    "name": "ipython",
    "version": 3
   },
   "file_extension": ".py",
   "mimetype": "text/x-python",
   "name": "python",
   "nbconvert_exporter": "python",
   "pygments_lexer": "ipython3",
   "version": "3.11.7"
  }
 },
 "nbformat": 4,
 "nbformat_minor": 5
}
