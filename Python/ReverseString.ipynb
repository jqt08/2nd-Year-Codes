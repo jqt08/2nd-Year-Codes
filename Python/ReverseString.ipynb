{
 "cells": [
  {
   "cell_type": "code",
   "execution_count": null,
   "id": "e9011669",
   "metadata": {},
   "outputs": [],
   "source": [
    "username = input(\"Please enter your username: \")\n",
    "num_characters = len(username)\n",
    "reversed_username = username[::-1]\n",
    "print(f\"Number of characters in username: {num_characters}\")\n",
    "print(f\"Reversed string of the username: {reversed_username}\")"
   ]
  }
 ],
 "metadata": {
  "kernelspec": {
   "display_name": "Python 3 (ipykernel)",
   "language": "python",
   "name": "python3"
  },
  "language_info": {
   "codemirror_mode": {
    "name": "ipython",
    "version": 3
   },
   "file_extension": ".py",
   "mimetype": "text/x-python",
   "name": "python",
   "nbconvert_exporter": "python",
   "pygments_lexer": "ipython3",
   "version": "3.11.7"
  }
 },
 "nbformat": 4,
 "nbformat_minor": 5
}
