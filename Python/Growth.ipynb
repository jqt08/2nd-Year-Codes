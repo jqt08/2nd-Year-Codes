{
 "cells": [
  {
   "cell_type": "code",
   "execution_count": 1,
   "id": "4555f5ac",
   "metadata": {},
   "outputs": [
    {
     "name": "stdout",
     "output_type": "stream",
     "text": [
      "Enter the initial number of organisms: 2\n",
      "Enter the growth rate (a real number greater than 0): 4\n",
      "Enter the number of hours it takes to achieve this rate: 6\n",
      "Enter the total number of hours during which the population grows: 20\n",
      "After 20 hours, the population will be 128 organisms.\n"
     ]
    }
   ],
   "source": [
    "initial_population = int(input(\"Enter the initial number of organisms: \"))\n",
    "growth_rate = float(input(\"Enter the growth rate (a real number greater than 0): \"))\n",
    "hours_to_achieve_rate = int(input(\"Enter the number of hours it takes to achieve this rate: \"))\n",
    "total_hours = int(input(\"Enter the total number of hours during which the population grows: \"))\n",
    "num_periods = total_hours // hours_to_achieve_rate\n",
    "final_population = initial_population * (growth_rate ** num_periods)\n",
    "print(f\"After {total_hours} hours, the population will be {int(final_population)} organisms.\")"
   ]
  },
  {
   "cell_type": "code",
   "execution_count": null,
   "id": "9a25b2ed",
   "metadata": {},
   "outputs": [],
   "source": []
  }
 ],
 "metadata": {
  "kernelspec": {
   "display_name": "Python 3 (ipykernel)",
   "language": "python",
   "name": "python3"
  },
  "language_info": {
   "codemirror_mode": {
    "name": "ipython",
    "version": 3
   },
   "file_extension": ".py",
   "mimetype": "text/x-python",
   "name": "python",
   "nbconvert_exporter": "python",
   "pygments_lexer": "ipython3",
   "version": "3.11.7"
  }
 },
 "nbformat": 4,
 "nbformat_minor": 5
}
